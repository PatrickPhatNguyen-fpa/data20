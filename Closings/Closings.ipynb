{
 "cells": [
  {
   "cell_type": "code",
   "execution_count": 4,
   "metadata": {},
   "outputs": [],
   "source": [
    "import numpy as np\n",
    "import pandas as pd\n",
    "import statsmodels.formula.api as smf\n",
    "import matplotlib as mpl\n",
    "import matplotlib.pyplot as plt\n",
    "import matplotlib.lines as mlines\n",
    "from mpl_toolkits.mplot3d import Axes3D\n",
    "import seaborn as sns\n",
    "\n",
    "%matplotlib widget\n",
    "sns.set()\n",
    "pd.options.display.float_format = '{:,.2f}'.format\n",
    "\n",
    "FIGSIZE = (10, 10)\n",
    "XRANGE = (0, 5)\n",
    "YRANGE = (0, 2.5)"
   ]
  },
  {
   "cell_type": "code",
   "execution_count": 5,
   "metadata": {},
   "outputs": [],
   "source": [
    "df = pd.read_excel('Closings.xlsx')\n",
    "df.columns = ['ID', 'LiqRev', 'Inventory', 'Type', 'LYRev', 'HHI', 'Age']\n",
    "df['LiqRevMM'] = df['LiqRev'] / 1000000\n",
    "df['InventoryMM'] = df['Inventory'] / 1000000\n",
    "df['LYRevMM'] = df['LYRev'] / 1000000"
   ]
  },
  {
   "cell_type": "markdown",
   "metadata": {},
   "source": [
    "# Plot Liquidation Revenue vs. Inventory"
   ]
  },
  {
   "cell_type": "code",
   "execution_count": 6,
   "metadata": {},
   "outputs": [
    {
     "data": {
      "application/vnd.jupyter.widget-view+json": {
       "model_id": "9bbe7210a319473c807c89f18c6ac20a",
       "version_major": 2,
       "version_minor": 0
      },
      "text/plain": [
       "Canvas(toolbar=Toolbar(toolitems=[('Home', 'Reset original view', 'home', 'home'), ('Back', 'Back to previous …"
      ]
     },
     "metadata": {},
     "output_type": "display_data"
    }
   ],
   "source": [
    "fig, ax = plt.subplots(figsize=FIGSIZE)\n",
    "sns.scatterplot(x='InventoryMM', y='LiqRevMM', data=df, ax=ax)\n",
    "ax.set_xlabel('Inventory (MM)')\n",
    "ax.set_ylabel('Liquidation Revenue (MM)')\n",
    "plt.xlim(XRANGE)\n",
    "plt.ylim(YRANGE)\n",
    "plt.show()"
   ]
  },
  {
   "cell_type": "markdown",
   "metadata": {},
   "source": [
    "# Finding a Best Fit Line\n"
   ]
  },
  {
   "cell_type": "code",
   "execution_count": 12,
   "metadata": {},
   "outputs": [
    {
     "data": {
      "application/vnd.jupyter.widget-view+json": {
       "model_id": "5140ec1ecf934bd494e98a81575bf334",
       "version_major": 2,
       "version_minor": 0
      },
      "text/plain": [
       "Canvas(toolbar=Toolbar(toolitems=[('Home', 'Reset original view', 'home', 'home'), ('Back', 'Back to previous …"
      ]
     },
     "metadata": {},
     "output_type": "display_data"
    }
   ],
   "source": [
    "fig, ax = plt.subplots(figsize=FIGSIZE)\n",
    "sns.scatterplot(x='InventoryMM', y='LiqRevMM', data=df, ax=ax)\n",
    "ax.set_xlabel('Inventory (MM)')\n",
    "ax.set_ylabel('Liquidation Revenue (MM)')\n",
    "\n",
    "testa = .1\n",
    "testb = 0.5\n",
    "\n",
    "ax.add_line(mlines.Line2D(XRANGE, \n",
    "                          [testa + testb*x for x in XRANGE],\n",
    "                           color='darkred'))\n",
    "\n",
    "plt.xlim(XRANGE)\n",
    "plt.ylim(YRANGE)\n",
    "plt.show()"
   ]
  },
  {
   "cell_type": "markdown",
   "metadata": {},
   "source": [
    "# Best Fit for Liquidation Revenue as a Function of Inventory"
   ]
  },
  {
   "cell_type": "code",
   "execution_count": 8,
   "metadata": {},
   "outputs": [
    {
     "data": {
      "application/vnd.jupyter.widget-view+json": {
       "model_id": "7fd9d97466344a94923478279c8aae5d",
       "version_major": 2,
       "version_minor": 0
      },
      "text/plain": [
       "Canvas(toolbar=Toolbar(toolitems=[('Home', 'Reset original view', 'home', 'home'), ('Back', 'Back to previous …"
      ]
     },
     "metadata": {},
     "output_type": "display_data"
    }
   ],
   "source": [
    "results = smf.ols('LiqRevMM ~ InventoryMM', data=df).fit()\n",
    "\n",
    "fig, ax = plt.subplots(figsize=FIGSIZE)\n",
    "sns.scatterplot(x='InventoryMM', y='LiqRevMM', data=df, ax=ax)\n",
    "ax.set_xlabel('Inventory (MM)')\n",
    "ax.set_ylabel('Liquidation Revenue (MM)')\n",
    "\n",
    "ax.add_line(mlines.Line2D(XRANGE, \n",
    "                          [results.params[0] + results.params[1]*x\n",
    "                           for x in XRANGE],\n",
    "                           color='darkred'))\n",
    "\n",
    "plt.xlim(XRANGE)\n",
    "plt.ylim(YRANGE)\n",
    "plt.show()"
   ]
  },
  {
   "cell_type": "markdown",
   "metadata": {},
   "source": [
    "# Liquidation Revenue as a Function of Inventory and Last-Year Revenue"
   ]
  },
  {
   "cell_type": "code",
   "execution_count": 13,
   "metadata": {},
   "outputs": [
    {
     "data": {
      "text/html": [
       "<table class=\"simpletable\">\n",
       "<tr>\n",
       "        <td>Model:</td>               <td>OLS</td>         <td>Adj. R-squared:</td>     <td>0.957</td>  \n",
       "</tr>\n",
       "<tr>\n",
       "  <td>Dependent Variable:</td>     <td>LiqRevMM</td>            <td>AIC:</td>         <td>-566.4478</td>\n",
       "</tr>\n",
       "<tr>\n",
       "         <td>Date:</td>        <td>2020-03-25 09:26</td>        <td>BIC:</td>         <td>-556.5982</td>\n",
       "</tr>\n",
       "<tr>\n",
       "   <td>No. Observations:</td>         <td>197</td>         <td>Log-Likelihood:</td>    <td>286.22</td>  \n",
       "</tr>\n",
       "<tr>\n",
       "       <td>Df Model:</td>              <td>2</td>           <td>F-statistic:</td>       <td>2206.</td>  \n",
       "</tr>\n",
       "<tr>\n",
       "     <td>Df Residuals:</td>           <td>194</td>       <td>Prob (F-statistic):</td> <td>3.81e-134</td>\n",
       "</tr>\n",
       "<tr>\n",
       "      <td>R-squared:</td>            <td>0.958</td>            <td>Scale:</td>        <td>0.0032524</td>\n",
       "</tr>\n",
       "</table>\n",
       "<table class=\"simpletable\">\n",
       "<tr>\n",
       "       <td></td>        <th>Coef.</th> <th>Std.Err.</th>    <th>t</th>     <th>P>|t|</th> <th>[0.025</th> <th>0.975]</th>\n",
       "</tr>\n",
       "<tr>\n",
       "  <th>Intercept</th>   <td>0.1376</td>  <td>0.0159</td>  <td>8.6385</td>  <td>0.0000</td> <td>0.1062</td> <td>0.1690</td>\n",
       "</tr>\n",
       "<tr>\n",
       "  <th>InventoryMM</th> <td>0.4403</td>  <td>0.0134</td>  <td>32.7400</td> <td>0.0000</td> <td>0.4138</td> <td>0.4668</td>\n",
       "</tr>\n",
       "<tr>\n",
       "  <th>LYRevMM</th>     <td>0.1693</td>  <td>0.0379</td>  <td>4.4692</td>  <td>0.0000</td> <td>0.0946</td> <td>0.2440</td>\n",
       "</tr>\n",
       "</table>\n",
       "<table class=\"simpletable\">\n",
       "<tr>\n",
       "     <td>Omnibus:</td>    <td>9.656</td>  <td>Durbin-Watson:</td>    <td>1.921</td>\n",
       "</tr>\n",
       "<tr>\n",
       "  <td>Prob(Omnibus):</td> <td>0.008</td> <td>Jarque-Bera (JB):</td> <td>18.811</td>\n",
       "</tr>\n",
       "<tr>\n",
       "       <td>Skew:</td>     <td>0.136</td>     <td>Prob(JB):</td>      <td>0.000</td>\n",
       "</tr>\n",
       "<tr>\n",
       "     <td>Kurtosis:</td>   <td>4.489</td>  <td>Condition No.:</td>     <td>23</td>  \n",
       "</tr>\n",
       "</table>"
      ],
      "text/plain": [
       "<class 'statsmodels.iolib.summary2.Summary'>\n",
       "\"\"\"\n",
       "                 Results: Ordinary least squares\n",
       "==================================================================\n",
       "Model:              OLS              Adj. R-squared:     0.957    \n",
       "Dependent Variable: LiqRevMM         AIC:                -566.4478\n",
       "Date:               2020-03-25 09:26 BIC:                -556.5982\n",
       "No. Observations:   197              Log-Likelihood:     286.22   \n",
       "Df Model:           2                F-statistic:        2206.    \n",
       "Df Residuals:       194              Prob (F-statistic): 3.81e-134\n",
       "R-squared:          0.958            Scale:              0.0032524\n",
       "--------------------------------------------------------------------\n",
       "              Coef.    Std.Err.      t      P>|t|    [0.025   0.975]\n",
       "--------------------------------------------------------------------\n",
       "Intercept     0.1376     0.0159    8.6385   0.0000   0.1062   0.1690\n",
       "InventoryMM   0.4403     0.0134   32.7400   0.0000   0.4138   0.4668\n",
       "LYRevMM       0.1693     0.0379    4.4692   0.0000   0.0946   0.2440\n",
       "------------------------------------------------------------------\n",
       "Omnibus:              9.656        Durbin-Watson:           1.921 \n",
       "Prob(Omnibus):        0.008        Jarque-Bera (JB):        18.811\n",
       "Skew:                 0.136        Prob(JB):                0.000 \n",
       "Kurtosis:             4.489        Condition No.:           23    \n",
       "==================================================================\n",
       "\n",
       "\"\"\""
      ]
     },
     "execution_count": 13,
     "metadata": {},
     "output_type": "execute_result"
    }
   ],
   "source": [
    "results = smf.ols('LiqRevMM ~ InventoryMM + LYRevMM', data=df).fit()\n",
    "results.summary2()"
   ]
  },
  {
   "cell_type": "code",
   "execution_count": 14,
   "metadata": {},
   "outputs": [
    {
     "data": {
      "application/vnd.jupyter.widget-view+json": {
       "model_id": "25071b6a9ced4a8da52ea1d4d23f7d83",
       "version_major": 2,
       "version_minor": 0
      },
      "text/plain": [
       "Canvas(toolbar=Toolbar(toolitems=[('Home', 'Reset original view', 'home', 'home'), ('Back', 'Back to previous …"
      ]
     },
     "metadata": {},
     "output_type": "display_data"
    }
   ],
   "source": [
    "fig = plt.figure(figsize=FIGSIZE)\n",
    "ax = fig.add_subplot(projection='3d')\n",
    "\n",
    "mesh_divs = 5\n",
    "\n",
    "surfaces = np.meshgrid(np.arange(0, df['InventoryMM'].max() + 1,\n",
    "                                 df['InventoryMM'].max() / mesh_divs),\n",
    "                       np.arange(0, df['LYRevMM'].max() + 1,\n",
    "                                 df['LYRevMM'].max() / mesh_divs))\n",
    "\n",
    "df['Prediction'] = results.predict()\n",
    "dfhigh = df[df['Prediction'] > df['LiqRevMM']]\n",
    "dflow = df[df['Prediction'] <= df['LiqRevMM']]\n",
    "\n",
    "pred = results.predict(exog=pd.DataFrame({'InventoryMM': surfaces[0].ravel(),\n",
    "                                          'LYRevMM': surfaces[1].ravel()}))\n",
    "\n",
    "ax.plot_surface(surfaces[0], surfaces[1],\n",
    "                pred.values.reshape(surfaces[0].shape),\n",
    "                rstride=1, cstride=1,\n",
    "                color='blue', alpha=0.2)\n",
    "\n",
    "ax.scatter(xs=dfhigh['InventoryMM'], ys=dfhigh['LYRevMM'],\n",
    "           zs=dfhigh['LiqRevMM'], color='Green')\n",
    "\n",
    "ax.scatter(xs=dflow['InventoryMM'], ys=dflow['LYRevMM'],\n",
    "           zs=dflow['LiqRevMM'], color='Red')\n",
    "\n",
    "ax.set_xlabel('Inventory (MM)')\n",
    "ax.set_ylabel('LYRev (MM)')\n",
    "ax.set_zlabel('LiqRev (MM)')\n",
    "\n",
    "plt.show()"
   ]
  },
  {
   "cell_type": "code",
   "execution_count": null,
   "metadata": {},
   "outputs": [],
   "source": []
  }
 ],
 "metadata": {
  "kernelspec": {
   "display_name": "Python 3",
   "language": "python",
   "name": "python3"
  },
  "language_info": {
   "codemirror_mode": {
    "name": "ipython",
    "version": 3
   },
   "file_extension": ".py",
   "mimetype": "text/x-python",
   "name": "python",
   "nbconvert_exporter": "python",
   "pygments_lexer": "ipython3",
   "version": "3.7.7"
  }
 },
 "nbformat": 4,
 "nbformat_minor": 4
}
