{
 "cells": [
  {
   "cell_type": "code",
   "execution_count": 4,
   "metadata": {},
   "outputs": [],
   "source": [
    "import numpy as np\n",
    "import pandas as pd\n",
    "import statsmodels.formula.api as smf\n",
    "import matplotlib.pyplot as plt\n",
    "import matplotlib.lines as mlines\n",
    "import seaborn as sns\n",
    "\n",
    "%matplotlib widget\n",
    "sns.set()\n",
    "pd.options.display.float_format = '{:,.2f}'.format\n",
    "\n",
    "FIGSIZE = (10, 10)\n",
    "XRANGE = (0, 5)\n",
    "YRANGE = (0, 5)"
   ]
  },
  {
   "cell_type": "code",
   "execution_count": 5,
   "metadata": {},
   "outputs": [],
   "source": [
    "df = pd.read_excel('Closings Two Chains.xlsx')\n",
    "df.columns = ['ID', 'LiqRev', 'Inventory', 'Type', 'LYRev', 'HHI', 'Age']\n",
    "df['LiqRevMM'] = df['LiqRev'] / 1000000\n",
    "df['InventoryMM'] = df['Inventory'] / 1000000\n",
    "df['LYRevMM'] = df['LYRev'] / 1000000"
   ]
  },
  {
   "cell_type": "markdown",
   "metadata": {},
   "source": [
    "# Plot Liquidation Revenue vs. Inventory"
   ]
  },
  {
   "cell_type": "code",
   "execution_count": 6,
   "metadata": {},
   "outputs": [
    {
     "data": {
      "application/vnd.jupyter.widget-view+json": {
       "model_id": "7ff9719a71944440ae55ffc476506af3",
       "version_major": 2,
       "version_minor": 0
      },
      "text/plain": [
       "Canvas(toolbar=Toolbar(toolitems=[('Home', 'Reset original view', 'home', 'home'), ('Back', 'Back to previous …"
      ]
     },
     "metadata": {},
     "output_type": "display_data"
    }
   ],
   "source": [
    "fig, ax = plt.subplots(figsize=FIGSIZE)\n",
    "sns.scatterplot(x='InventoryMM', y='LiqRevMM', hue='Type', data=df, ax=ax)\n",
    "ax.set_xlabel('Inventory (MM)')\n",
    "ax.set_ylabel('Liquidation Revenue (MM)')\n",
    "plt.xlim(XRANGE)\n",
    "plt.ylim(YRANGE)\n",
    "plt.show()"
   ]
  },
  {
   "cell_type": "markdown",
   "metadata": {},
   "source": [
    "# A Single Intercept and Slope"
   ]
  },
  {
   "cell_type": "code",
   "execution_count": 9,
   "metadata": {},
   "outputs": [
    {
     "data": {
      "application/vnd.jupyter.widget-view+json": {
       "model_id": "4eac5ac78de94419aa70ce2ed39a7952",
       "version_major": 2,
       "version_minor": 0
      },
      "text/plain": [
       "Canvas(toolbar=Toolbar(toolitems=[('Home', 'Reset original view', 'home', 'home'), ('Back', 'Back to previous …"
      ]
     },
     "metadata": {},
     "output_type": "display_data"
    }
   ],
   "source": [
    "results = smf.ols('LiqRevMM ~ InventoryMM', data=df).fit()\n",
    "\n",
    "fig, ax = plt.subplots(figsize=FIGSIZE)\n",
    "sns.scatterplot(x='InventoryMM', y='LiqRevMM', hue='Type', data=df, ax=ax)\n",
    "ax.set_xlabel('Inventory (MM)')\n",
    "ax.set_ylabel('Liquidation Revenue (MM)')\n",
    "\n",
    "ax.add_line(mlines.Line2D(XRANGE,\n",
    "                          [results.params[0] + results.params[1]*x\n",
    "                           for x in XRANGE],\n",
    "                          color='darkred'))\n",
    "\n",
    "plt.xlim(XRANGE)\n",
    "plt.ylim(YRANGE)\n",
    "plt.show()"
   ]
  },
  {
   "cell_type": "markdown",
   "metadata": {},
   "source": [
    "# An Intercept for Each Store Type, A Single Slope"
   ]
  },
  {
   "cell_type": "code",
   "execution_count": 10,
   "metadata": {},
   "outputs": [
    {
     "data": {
      "application/vnd.jupyter.widget-view+json": {
       "model_id": "742199f77585478ab4d6a398c108b9a5",
       "version_major": 2,
       "version_minor": 0
      },
      "text/plain": [
       "Canvas(toolbar=Toolbar(toolitems=[('Home', 'Reset original view', 'home', 'home'), ('Back', 'Back to previous …"
      ]
     },
     "metadata": {},
     "output_type": "display_data"
    }
   ],
   "source": [
    "results = smf.ols('LiqRevMM ~ Type + InventoryMM', data=df).fit()\n",
    "\n",
    "fig, ax = plt.subplots(figsize=FIGSIZE)\n",
    "sns.scatterplot(x='InventoryMM', y='LiqRevMM', hue='Type', data=df, ax=ax)\n",
    "ax.set_xlabel('Inventory (MM)')\n",
    "ax.set_ylabel('Liquidation Revenue (MM)')\n",
    "\n",
    "intercepts = [results.params[0], results.params[0] + results.params[1]]\n",
    "slope = results.params[2]\n",
    "\n",
    "for i in intercepts:\n",
    "    ax.add_line(mlines.Line2D(XRANGE,\n",
    "                              [i + slope*x for x in XRANGE],\n",
    "                              color='darkred'))\n",
    "\n",
    "plt.xlim(XRANGE)\n",
    "plt.ylim(YRANGE)\n",
    "plt.show()"
   ]
  },
  {
   "cell_type": "markdown",
   "metadata": {},
   "source": [
    "# Intercepts and Slopes for Each Store Type"
   ]
  },
  {
   "cell_type": "code",
   "execution_count": 11,
   "metadata": {},
   "outputs": [
    {
     "data": {
      "application/vnd.jupyter.widget-view+json": {
       "model_id": "b3ae102a04fe4b5cb4537c0c8c34cc77",
       "version_major": 2,
       "version_minor": 0
      },
      "text/plain": [
       "Canvas(toolbar=Toolbar(toolitems=[('Home', 'Reset original view', 'home', 'home'), ('Back', 'Back to previous …"
      ]
     },
     "metadata": {},
     "output_type": "display_data"
    }
   ],
   "source": [
    "results = smf.ols('LiqRevMM ~ Type + Type*InventoryMM', data=df).fit()\n",
    "\n",
    "fig, ax = plt.subplots(figsize=FIGSIZE)\n",
    "sns.scatterplot(x='InventoryMM', y='LiqRevMM', hue='Type', data=df, ax=ax)\n",
    "ax.set_xlabel('Inventory (MM)')\n",
    "ax.set_ylabel('Liquidation Revenue (MM)')\n",
    "\n",
    "intercepts = [results.params[0], results.params[0] + results.params[1]]\n",
    "slopes = [results.params[2], results.params[2] + results.params[3]]\n",
    "\n",
    "for i, s in zip(intercepts, slopes):\n",
    "        ax.add_line(mlines.Line2D(XRANGE, [i + s*x for x in XRANGE],\n",
    "                                  color='darkred'))\n",
    "\n",
    "plt.xlim(XRANGE)\n",
    "plt.ylim(YRANGE)\n",
    "plt.show()"
   ]
  },
  {
   "cell_type": "code",
   "execution_count": null,
   "metadata": {},
   "outputs": [],
   "source": []
  }
 ],
 "metadata": {
  "kernelspec": {
   "display_name": "Python 3",
   "language": "python",
   "name": "python3"
  },
  "language_info": {
   "codemirror_mode": {
    "name": "ipython",
    "version": 3
   },
   "file_extension": ".py",
   "mimetype": "text/x-python",
   "name": "python",
   "nbconvert_exporter": "python",
   "pygments_lexer": "ipython3",
   "version": "3.7.7"
  }
 },
 "nbformat": 4,
 "nbformat_minor": 4
}
