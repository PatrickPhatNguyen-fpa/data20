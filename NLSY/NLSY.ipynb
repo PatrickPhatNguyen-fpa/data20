{
 "cells": [
  {
   "cell_type": "code",
   "execution_count": 45,
   "metadata": {},
   "outputs": [],
   "source": [
    "import pandas as pd\n",
    "import seaborn as sns\n",
    "import matplotlib.pyplot as plt\n",
    "import statsmodels.formula.api as sm\n",
    "\n",
    "%matplotlib widget\n",
    "sns.set()\n",
    "pd.options.display.float_format = '{:,.2f}'.format\n",
    "\n",
    "FIGSIZE = (10, 10)"
   ]
  },
  {
   "cell_type": "code",
   "execution_count": 46,
   "metadata": {},
   "outputs": [],
   "source": [
    "df = pd.read_excel('NLSY.xlsx')"
   ]
  },
  {
   "cell_type": "code",
   "execution_count": 47,
   "metadata": {},
   "outputs": [
    {
     "data": {
      "text/plain": [
       "Index(['ID', 'Earnings', 'WeeksWorked', 'Experience', 'Education', 'IQ', 'Sex',\n",
       "       'MSA', 'Library', 'Esteem'],\n",
       "      dtype='object')"
      ]
     },
     "execution_count": 47,
     "metadata": {},
     "output_type": "execute_result"
    }
   ],
   "source": [
    "df.columns"
   ]
  },
  {
   "cell_type": "code",
   "execution_count": 67,
   "metadata": {},
   "outputs": [
    {
     "data": {
      "application/vnd.jupyter.widget-view+json": {
       "model_id": "6e61c081f405450d868d479c7861f958",
       "version_major": 2,
       "version_minor": 0
      },
      "text/plain": [
       "Canvas(toolbar=Toolbar(toolitems=[('Home', 'Reset original view', 'home', 'home'), ('Back', 'Back to previous …"
      ]
     },
     "metadata": {},
     "output_type": "display_data"
    }
   ],
   "source": [
    "fig, ax = plt.subplots(3, 2, sharey=True, figsize=FIGSIZE)\n",
    "sns.scatterplot(x='Education', y='Earnings', ax=ax[0, 0], data=df)\n",
    "sns.scatterplot(x='Experience', y='Earnings', ax=ax[0, 1], data=df)\n",
    "sns.scatterplot(x='WeeksWorked', y='Earnings', ax=ax[1, 0], data=df)\n",
    "sns.scatterplot(x='IQ', y='Earnings', ax=ax[1, 1], data=df)\n",
    "sns.scatterplot(x='Esteem', y='Earnings', ax=ax[2, 0], data=df)\n",
    "plt.show()"
   ]
  },
  {
   "cell_type": "code",
   "execution_count": 73,
   "metadata": {},
   "outputs": [
    {
     "data": {
      "application/vnd.jupyter.widget-view+json": {
       "model_id": "06544ac0e3cc47b8acb9354fca8ad0d4",
       "version_major": 2,
       "version_minor": 0
      },
      "text/plain": [
       "Canvas(toolbar=Toolbar(toolitems=[('Home', 'Reset original view', 'home', 'home'), ('Back', 'Back to previous …"
      ]
     },
     "metadata": {},
     "output_type": "display_data"
    }
   ],
   "source": [
    "fig, ax = plt.subplots(3, 1, sharex=True, figsize=FIGSIZE)\n",
    "sns.boxplot(y='Sex', x='Earnings', ax=ax[0], data=df)\n",
    "sns.boxplot(y='MSA', x='Earnings', ax=ax[1], data=df)\n",
    "sns.boxplot(y='Library', x='Earnings', ax=ax[2], data=df)\n",
    "plt.show()"
   ]
  },
  {
   "cell_type": "code",
   "execution_count": 74,
   "metadata": {},
   "outputs": [
    {
     "data": {
      "text/html": [
       "<table class=\"simpletable\">\n",
       "<tr>\n",
       "        <td>Model:</td>               <td>OLS</td>         <td>Adj. R-squared:</td>      <td>0.453</td>  \n",
       "</tr>\n",
       "<tr>\n",
       "  <td>Dependent Variable:</td>     <td>Earnings</td>            <td>AIC:</td>         <td>25469.1562</td>\n",
       "</tr>\n",
       "<tr>\n",
       "         <td>Date:</td>        <td>2020-03-29 18:45</td>        <td>BIC:</td>         <td>25479.3246</td>\n",
       "</tr>\n",
       "<tr>\n",
       "   <td>No. Observations:</td>        <td>1193</td>         <td>Log-Likelihood:</td>     <td>-12733.</td> \n",
       "</tr>\n",
       "<tr>\n",
       "       <td>Df Model:</td>              <td>1</td>           <td>F-statistic:</td>        <td>988.4</td>  \n",
       "</tr>\n",
       "<tr>\n",
       "     <td>Df Residuals:</td>          <td>1191</td>       <td>Prob (F-statistic):</td>  <td>1.83e-158</td>\n",
       "</tr>\n",
       "<tr>\n",
       "      <td>R-squared:</td>            <td>0.454</td>            <td>Scale:</td>        <td>1.0926e+08</td>\n",
       "</tr>\n",
       "</table>\n",
       "<table class=\"simpletable\">\n",
       "<tr>\n",
       "       <td></td>         <th>Coef.</th>   <th>Std.Err.</th>    <th>t</th>     <th>P>|t|</th>   <th>[0.025</th>     <th>0.975]</th>  \n",
       "</tr>\n",
       "<tr>\n",
       "  <th>Intercept</th>  <td>-4026.0591</td> <td>981.6063</td> <td>-4.1015</td> <td>0.0000</td> <td>-5951.9292</td> <td>-2100.1889</td>\n",
       "</tr>\n",
       "<tr>\n",
       "  <th>Experience</th>  <td>2013.4556</td>  <td>64.0441</td> <td>31.4386</td> <td>0.0000</td>  <td>1887.8038</td>  <td>2139.1073</td>\n",
       "</tr>\n",
       "</table>\n",
       "<table class=\"simpletable\">\n",
       "<tr>\n",
       "     <td>Omnibus:</td>    <td>33.057</td>  <td>Durbin-Watson:</td>    <td>1.860</td>\n",
       "</tr>\n",
       "<tr>\n",
       "  <td>Prob(Omnibus):</td>  <td>0.000</td> <td>Jarque-Bera (JB):</td> <td>35.309</td>\n",
       "</tr>\n",
       "<tr>\n",
       "       <td>Skew:</td>      <td>0.416</td>     <td>Prob(JB):</td>      <td>0.000</td>\n",
       "</tr>\n",
       "<tr>\n",
       "     <td>Kurtosis:</td>    <td>2.870</td>  <td>Condition No.:</td>     <td>50</td>  \n",
       "</tr>\n",
       "</table>"
      ],
      "text/plain": [
       "<class 'statsmodels.iolib.summary2.Summary'>\n",
       "\"\"\"\n",
       "                  Results: Ordinary least squares\n",
       "===================================================================\n",
       "Model:              OLS              Adj. R-squared:     0.453     \n",
       "Dependent Variable: Earnings         AIC:                25469.1562\n",
       "Date:               2020-03-29 18:45 BIC:                25479.3246\n",
       "No. Observations:   1193             Log-Likelihood:     -12733.   \n",
       "Df Model:           1                F-statistic:        988.4     \n",
       "Df Residuals:       1191             Prob (F-statistic): 1.83e-158 \n",
       "R-squared:          0.454            Scale:              1.0926e+08\n",
       "-------------------------------------------------------------------\n",
       "             Coef.    Std.Err.    t    P>|t|    [0.025     0.975]  \n",
       "-------------------------------------------------------------------\n",
       "Intercept  -4026.0591 981.6063 -4.1015 0.0000 -5951.9292 -2100.1889\n",
       "Experience  2013.4556  64.0441 31.4386 0.0000  1887.8038  2139.1073\n",
       "-------------------------------------------------------------------\n",
       "Omnibus:              33.057        Durbin-Watson:           1.860 \n",
       "Prob(Omnibus):        0.000         Jarque-Bera (JB):        35.309\n",
       "Skew:                 0.416         Prob(JB):                0.000 \n",
       "Kurtosis:             2.870         Condition No.:           50    \n",
       "===================================================================\n",
       "\n",
       "\"\"\""
      ]
     },
     "execution_count": 74,
     "metadata": {},
     "output_type": "execute_result"
    }
   ],
   "source": [
    "model = sm.ols('Earnings ~ Experience', data=df).fit()\n",
    "model.summary2()"
   ]
  },
  {
   "cell_type": "code",
   "execution_count": 75,
   "metadata": {},
   "outputs": [
    {
     "data": {
      "text/html": [
       "<table class=\"simpletable\">\n",
       "<tr>\n",
       "        <td>Model:</td>               <td>OLS</td>         <td>Adj. R-squared:</td>      <td>0.571</td>  \n",
       "</tr>\n",
       "<tr>\n",
       "  <td>Dependent Variable:</td>     <td>Earnings</td>            <td>AIC:</td>         <td>25179.7942</td>\n",
       "</tr>\n",
       "<tr>\n",
       "         <td>Date:</td>        <td>2020-03-29 18:45</td>        <td>BIC:</td>         <td>25195.0468</td>\n",
       "</tr>\n",
       "<tr>\n",
       "   <td>No. Observations:</td>        <td>1193</td>         <td>Log-Likelihood:</td>     <td>-12587.</td> \n",
       "</tr>\n",
       "<tr>\n",
       "       <td>Df Model:</td>              <td>2</td>           <td>F-statistic:</td>        <td>795.0</td>  \n",
       "</tr>\n",
       "<tr>\n",
       "     <td>Df Residuals:</td>          <td>1190</td>       <td>Prob (F-statistic):</td>  <td>5.62e-220</td>\n",
       "</tr>\n",
       "<tr>\n",
       "      <td>R-squared:</td>            <td>0.572</td>            <td>Scale:</td>        <td>8.5660e+07</td>\n",
       "</tr>\n",
       "</table>\n",
       "<table class=\"simpletable\">\n",
       "<tr>\n",
       "       <td></td>         <th>Coef.</th>    <th>Std.Err.</th>      <th>t</th>     <th>P>|t|</th>   <th>[0.025</th>      <th>0.975]</th>   \n",
       "</tr>\n",
       "<tr>\n",
       "  <th>Intercept</th>  <td>-33762.4462</td> <td>1855.1311</td> <td>-18.1995</td> <td>0.0000</td> <td>-37402.1382</td> <td>-30122.7541</td>\n",
       "</tr>\n",
       "<tr>\n",
       "  <th>Education</th>   <td>2448.7479</td>  <td>134.9641</td>   <td>18.1437</td> <td>0.0000</td>  <td>2183.9537</td>   <td>2713.5421</td> \n",
       "</tr>\n",
       "<tr>\n",
       "  <th>Experience</th>  <td>1846.8035</td>   <td>57.4450</td>   <td>32.1491</td> <td>0.0000</td>  <td>1734.0988</td>   <td>1959.5083</td> \n",
       "</tr>\n",
       "</table>\n",
       "<table class=\"simpletable\">\n",
       "<tr>\n",
       "     <td>Omnibus:</td>    <td>37.465</td>  <td>Durbin-Watson:</td>    <td>1.940</td>\n",
       "</tr>\n",
       "<tr>\n",
       "  <td>Prob(Omnibus):</td>  <td>0.000</td> <td>Jarque-Bera (JB):</td> <td>20.378</td>\n",
       "</tr>\n",
       "<tr>\n",
       "       <td>Skew:</td>      <td>0.134</td>     <td>Prob(JB):</td>      <td>0.000</td>\n",
       "</tr>\n",
       "<tr>\n",
       "     <td>Kurtosis:</td>    <td>2.419</td>  <td>Condition No.:</td>     <td>139</td> \n",
       "</tr>\n",
       "</table>"
      ],
      "text/plain": [
       "<class 'statsmodels.iolib.summary2.Summary'>\n",
       "\"\"\"\n",
       "                    Results: Ordinary least squares\n",
       "========================================================================\n",
       "Model:                 OLS               Adj. R-squared:      0.571     \n",
       "Dependent Variable:    Earnings          AIC:                 25179.7942\n",
       "Date:                  2020-03-29 18:45  BIC:                 25195.0468\n",
       "No. Observations:      1193              Log-Likelihood:      -12587.   \n",
       "Df Model:              2                 F-statistic:         795.0     \n",
       "Df Residuals:          1190              Prob (F-statistic):  5.62e-220 \n",
       "R-squared:             0.572             Scale:               8.5660e+07\n",
       "------------------------------------------------------------------------\n",
       "              Coef.     Std.Err.    t     P>|t|     [0.025      0.975]  \n",
       "------------------------------------------------------------------------\n",
       "Intercept  -33762.4462 1855.1311 -18.1995 0.0000 -37402.1382 -30122.7541\n",
       "Education    2448.7479  134.9641  18.1437 0.0000   2183.9537   2713.5421\n",
       "Experience   1846.8035   57.4450  32.1491 0.0000   1734.0988   1959.5083\n",
       "------------------------------------------------------------------------\n",
       "Omnibus:                 37.465         Durbin-Watson:            1.940 \n",
       "Prob(Omnibus):           0.000          Jarque-Bera (JB):         20.378\n",
       "Skew:                    0.134          Prob(JB):                 0.000 \n",
       "Kurtosis:                2.419          Condition No.:            139   \n",
       "========================================================================\n",
       "\n",
       "\"\"\""
      ]
     },
     "execution_count": 75,
     "metadata": {},
     "output_type": "execute_result"
    }
   ],
   "source": [
    "model = sm.ols('Earnings ~ Education + Experience', data=df).fit()\n",
    "model.summary2()"
   ]
  },
  {
   "cell_type": "code",
   "execution_count": 61,
   "metadata": {},
   "outputs": [
    {
     "data": {
      "text/html": [
       "<table class=\"simpletable\">\n",
       "<tr>\n",
       "        <td>Model:</td>               <td>OLS</td>         <td>Adj. R-squared:</td>      <td>0.594</td>  \n",
       "</tr>\n",
       "<tr>\n",
       "  <td>Dependent Variable:</td>     <td>Earnings</td>            <td>AIC:</td>         <td>25115.0537</td>\n",
       "</tr>\n",
       "<tr>\n",
       "         <td>Date:</td>        <td>2020-03-29 18:33</td>        <td>BIC:</td>         <td>25135.3906</td>\n",
       "</tr>\n",
       "<tr>\n",
       "   <td>No. Observations:</td>        <td>1193</td>         <td>Log-Likelihood:</td>     <td>-12554.</td> \n",
       "</tr>\n",
       "<tr>\n",
       "       <td>Df Model:</td>              <td>3</td>           <td>F-statistic:</td>        <td>582.8</td>  \n",
       "</tr>\n",
       "<tr>\n",
       "     <td>Df Residuals:</td>          <td>1189</td>       <td>Prob (F-statistic):</td>  <td>6.56e-233</td>\n",
       "</tr>\n",
       "<tr>\n",
       "      <td>R-squared:</td>            <td>0.595</td>            <td>Scale:</td>        <td>8.1067e+07</td>\n",
       "</tr>\n",
       "</table>\n",
       "<table class=\"simpletable\">\n",
       "<tr>\n",
       "       <td></td>          <th>Coef.</th>    <th>Std.Err.</th>      <th>t</th>     <th>P>|t|</th>   <th>[0.025</th>      <th>0.975]</th>   \n",
       "</tr>\n",
       "<tr>\n",
       "  <th>Intercept</th>   <td>-31155.3354</td> <td>1832.0367</td> <td>-17.0058</td> <td>0.0000</td> <td>-34749.7203</td> <td>-27560.9505</td>\n",
       "</tr>\n",
       "<tr>\n",
       "  <th>Education</th>    <td>2342.9529</td>  <td>131.9180</td>   <td>17.7607</td> <td>0.0000</td>  <td>2084.1349</td>   <td>2601.7710</td> \n",
       "</tr>\n",
       "<tr>\n",
       "  <th>Experience</th>   <td>1404.8934</td>   <td>77.3145</td>   <td>18.1712</td> <td>0.0000</td>  <td>1253.2054</td>   <td>1556.5814</td> \n",
       "</tr>\n",
       "<tr>\n",
       "  <th>WeeksWorked</th>  <td>146.3064</td>    <td>17.6887</td>   <td>8.2712</td>  <td>0.0000</td>  <td>111.6019</td>    <td>181.0110</td>  \n",
       "</tr>\n",
       "</table>\n",
       "<table class=\"simpletable\">\n",
       "<tr>\n",
       "     <td>Omnibus:</td>    <td>34.932</td>  <td>Durbin-Watson:</td>    <td>1.938</td>\n",
       "</tr>\n",
       "<tr>\n",
       "  <td>Prob(Omnibus):</td>  <td>0.000</td> <td>Jarque-Bera (JB):</td> <td>21.120</td>\n",
       "</tr>\n",
       "<tr>\n",
       "       <td>Skew:</td>      <td>0.174</td>     <td>Prob(JB):</td>      <td>0.000</td>\n",
       "</tr>\n",
       "<tr>\n",
       "     <td>Kurtosis:</td>    <td>2.449</td>  <td>Condition No.:</td>     <td>319</td> \n",
       "</tr>\n",
       "</table>"
      ],
      "text/plain": [
       "<class 'statsmodels.iolib.summary2.Summary'>\n",
       "\"\"\"\n",
       "                     Results: Ordinary least squares\n",
       "=========================================================================\n",
       "Model:                OLS                Adj. R-squared:       0.594     \n",
       "Dependent Variable:   Earnings           AIC:                  25115.0537\n",
       "Date:                 2020-03-29 18:33   BIC:                  25135.3906\n",
       "No. Observations:     1193               Log-Likelihood:       -12554.   \n",
       "Df Model:             3                  F-statistic:          582.8     \n",
       "Df Residuals:         1189               Prob (F-statistic):   6.56e-233 \n",
       "R-squared:            0.595              Scale:                8.1067e+07\n",
       "-------------------------------------------------------------------------\n",
       "               Coef.     Std.Err.    t     P>|t|     [0.025      0.975]  \n",
       "-------------------------------------------------------------------------\n",
       "Intercept   -31155.3354 1832.0367 -17.0058 0.0000 -34749.7203 -27560.9505\n",
       "Education     2342.9529  131.9180  17.7607 0.0000   2084.1349   2601.7710\n",
       "Experience    1404.8934   77.3145  18.1712 0.0000   1253.2054   1556.5814\n",
       "WeeksWorked    146.3064   17.6887   8.2712 0.0000    111.6019    181.0110\n",
       "-------------------------------------------------------------------------\n",
       "Omnibus:                34.932          Durbin-Watson:             1.938 \n",
       "Prob(Omnibus):          0.000           Jarque-Bera (JB):          21.120\n",
       "Skew:                   0.174           Prob(JB):                  0.000 \n",
       "Kurtosis:               2.449           Condition No.:             319   \n",
       "=========================================================================\n",
       "\n",
       "\"\"\""
      ]
     },
     "execution_count": 61,
     "metadata": {},
     "output_type": "execute_result"
    }
   ],
   "source": [
    "model = sm.ols('Earnings ~ Education + Experience + WeeksWorked', data=df).fit()\n",
    "model.summary2()"
   ]
  },
  {
   "cell_type": "code",
   "execution_count": 62,
   "metadata": {},
   "outputs": [
    {
     "data": {
      "text/html": [
       "<table class=\"simpletable\">\n",
       "<tr>\n",
       "        <td>Model:</td>               <td>OLS</td>         <td>Adj. R-squared:</td>      <td>0.596</td>  \n",
       "</tr>\n",
       "<tr>\n",
       "  <td>Dependent Variable:</td>     <td>Earnings</td>            <td>AIC:</td>         <td>25110.4027</td>\n",
       "</tr>\n",
       "<tr>\n",
       "         <td>Date:</td>        <td>2020-03-29 18:33</td>        <td>BIC:</td>         <td>25135.8238</td>\n",
       "</tr>\n",
       "<tr>\n",
       "   <td>No. Observations:</td>        <td>1193</td>         <td>Log-Likelihood:</td>     <td>-12550.</td> \n",
       "</tr>\n",
       "<tr>\n",
       "       <td>Df Model:</td>              <td>4</td>           <td>F-statistic:</td>        <td>440.8</td>  \n",
       "</tr>\n",
       "<tr>\n",
       "     <td>Df Residuals:</td>          <td>1188</td>       <td>Prob (F-statistic):</td>  <td>6.30e-233</td>\n",
       "</tr>\n",
       "<tr>\n",
       "      <td>R-squared:</td>            <td>0.597</td>            <td>Scale:</td>        <td>8.0684e+07</td>\n",
       "</tr>\n",
       "</table>\n",
       "<table class=\"simpletable\">\n",
       "<tr>\n",
       "       <td></td>          <th>Coef.</th>    <th>Std.Err.</th>      <th>t</th>     <th>P>|t|</th>   <th>[0.025</th>      <th>0.975]</th>   \n",
       "</tr>\n",
       "<tr>\n",
       "  <th>Intercept</th>   <td>-30572.1912</td> <td>1841.6594</td> <td>-16.6004</td> <td>0.0000</td> <td>-34185.4585</td> <td>-26958.9238</td>\n",
       "</tr>\n",
       "<tr>\n",
       "  <th>Education</th>    <td>2226.3831</td>  <td>139.1623</td>   <td>15.9985</td> <td>0.0000</td>  <td>1953.3518</td>   <td>2499.4144</td> \n",
       "</tr>\n",
       "<tr>\n",
       "  <th>Experience</th>   <td>1387.2427</td>   <td>77.4352</td>   <td>17.9149</td> <td>0.0000</td>  <td>1235.3177</td>   <td>1539.1677</td> \n",
       "</tr>\n",
       "<tr>\n",
       "  <th>WeeksWorked</th>  <td>147.8399</td>    <td>17.6569</td>   <td>8.3729</td>  <td>0.0000</td>  <td>113.1977</td>    <td>182.4822</td>  \n",
       "</tr>\n",
       "<tr>\n",
       "  <th>IQ</th>            <td>23.6506</td>    <td>9.1771</td>    <td>2.5771</td>  <td>0.0101</td>   <td>5.6455</td>      <td>41.6558</td>  \n",
       "</tr>\n",
       "</table>\n",
       "<table class=\"simpletable\">\n",
       "<tr>\n",
       "     <td>Omnibus:</td>    <td>36.429</td>  <td>Durbin-Watson:</td>    <td>1.945</td>\n",
       "</tr>\n",
       "<tr>\n",
       "  <td>Prob(Omnibus):</td>  <td>0.000</td> <td>Jarque-Bera (JB):</td> <td>21.601</td>\n",
       "</tr>\n",
       "<tr>\n",
       "       <td>Skew:</td>      <td>0.173</td>     <td>Prob(JB):</td>      <td>0.000</td>\n",
       "</tr>\n",
       "<tr>\n",
       "     <td>Kurtosis:</td>    <td>2.439</td>  <td>Condition No.:</td>     <td>492</td> \n",
       "</tr>\n",
       "</table>"
      ],
      "text/plain": [
       "<class 'statsmodels.iolib.summary2.Summary'>\n",
       "\"\"\"\n",
       "                     Results: Ordinary least squares\n",
       "=========================================================================\n",
       "Model:                OLS                Adj. R-squared:       0.596     \n",
       "Dependent Variable:   Earnings           AIC:                  25110.4027\n",
       "Date:                 2020-03-29 18:33   BIC:                  25135.8238\n",
       "No. Observations:     1193               Log-Likelihood:       -12550.   \n",
       "Df Model:             4                  F-statistic:          440.8     \n",
       "Df Residuals:         1188               Prob (F-statistic):   6.30e-233 \n",
       "R-squared:            0.597              Scale:                8.0684e+07\n",
       "-------------------------------------------------------------------------\n",
       "               Coef.     Std.Err.    t     P>|t|     [0.025      0.975]  \n",
       "-------------------------------------------------------------------------\n",
       "Intercept   -30572.1912 1841.6594 -16.6004 0.0000 -34185.4585 -26958.9238\n",
       "Education     2226.3831  139.1623  15.9985 0.0000   1953.3518   2499.4144\n",
       "Experience    1387.2427   77.4352  17.9149 0.0000   1235.3177   1539.1677\n",
       "WeeksWorked    147.8399   17.6569   8.3729 0.0000    113.1977    182.4822\n",
       "IQ              23.6506    9.1771   2.5771 0.0101      5.6455     41.6558\n",
       "-------------------------------------------------------------------------\n",
       "Omnibus:                36.429          Durbin-Watson:             1.945 \n",
       "Prob(Omnibus):          0.000           Jarque-Bera (JB):          21.601\n",
       "Skew:                   0.173           Prob(JB):                  0.000 \n",
       "Kurtosis:               2.439           Condition No.:             492   \n",
       "=========================================================================\n",
       "\n",
       "\"\"\""
      ]
     },
     "execution_count": 62,
     "metadata": {},
     "output_type": "execute_result"
    }
   ],
   "source": [
    "model = sm.ols('Earnings ~ Education + Experience + WeeksWorked + IQ', data=df).fit()\n",
    "model.summary2()"
   ]
  },
  {
   "cell_type": "code",
   "execution_count": 63,
   "metadata": {},
   "outputs": [
    {
     "data": {
      "text/html": [
       "<table class=\"simpletable\">\n",
       "<tr>\n",
       "        <td>Model:</td>               <td>OLS</td>         <td>Adj. R-squared:</td>      <td>0.596</td>  \n",
       "</tr>\n",
       "<tr>\n",
       "  <td>Dependent Variable:</td>     <td>Earnings</td>            <td>AIC:</td>         <td>25110.4760</td>\n",
       "</tr>\n",
       "<tr>\n",
       "         <td>Date:</td>        <td>2020-03-29 18:34</td>        <td>BIC:</td>         <td>25140.9814</td>\n",
       "</tr>\n",
       "<tr>\n",
       "   <td>No. Observations:</td>        <td>1193</td>         <td>Log-Likelihood:</td>     <td>-12549.</td> \n",
       "</tr>\n",
       "<tr>\n",
       "       <td>Df Model:</td>              <td>5</td>           <td>F-statistic:</td>        <td>353.3</td>  \n",
       "</tr>\n",
       "<tr>\n",
       "     <td>Df Residuals:</td>          <td>1187</td>       <td>Prob (F-statistic):</td>  <td>5.41e-232</td>\n",
       "</tr>\n",
       "<tr>\n",
       "      <td>R-squared:</td>            <td>0.598</td>            <td>Scale:</td>        <td>8.0622e+07</td>\n",
       "</tr>\n",
       "</table>\n",
       "<table class=\"simpletable\">\n",
       "<tr>\n",
       "       <td></td>          <th>Coef.</th>    <th>Std.Err.</th>      <th>t</th>     <th>P>|t|</th>   <th>[0.025</th>      <th>0.975]</th>   \n",
       "</tr>\n",
       "<tr>\n",
       "  <th>Intercept</th>   <td>-32080.5640</td> <td>2138.9210</td> <td>-14.9985</td> <td>0.0000</td> <td>-36277.0510</td> <td>-27884.0769</td>\n",
       "</tr>\n",
       "<tr>\n",
       "  <th>Education</th>    <td>2196.3570</td>  <td>140.7875</td>   <td>15.6005</td> <td>0.0000</td>  <td>1920.1370</td>   <td>2472.5770</td> \n",
       "</tr>\n",
       "<tr>\n",
       "  <th>Experience</th>   <td>1376.1827</td>   <td>77.8160</td>   <td>17.6851</td> <td>0.0000</td>  <td>1223.5104</td>   <td>1528.8550</td> \n",
       "</tr>\n",
       "<tr>\n",
       "  <th>WeeksWorked</th>  <td>148.5797</td>    <td>17.6582</td>   <td>8.4142</td>  <td>0.0000</td>  <td>113.9350</td>    <td>183.2244</td>  \n",
       "</tr>\n",
       "<tr>\n",
       "  <th>IQ</th>            <td>22.7475</td>    <td>9.1967</td>    <td>2.4734</td>  <td>0.0135</td>   <td>4.7039</td>      <td>40.7911</td>  \n",
       "</tr>\n",
       "<tr>\n",
       "  <th>Esteem</th>        <td>93.5862</td>    <td>67.5657</td>   <td>1.3851</td>  <td>0.1663</td>  <td>-38.9752</td>    <td>226.1476</td>  \n",
       "</tr>\n",
       "</table>\n",
       "<table class=\"simpletable\">\n",
       "<tr>\n",
       "     <td>Omnibus:</td>    <td>36.271</td>  <td>Durbin-Watson:</td>    <td>1.940</td>\n",
       "</tr>\n",
       "<tr>\n",
       "  <td>Prob(Omnibus):</td>  <td>0.000</td> <td>Jarque-Bera (JB):</td> <td>21.665</td>\n",
       "</tr>\n",
       "<tr>\n",
       "       <td>Skew:</td>      <td>0.176</td>     <td>Prob(JB):</td>      <td>0.000</td>\n",
       "</tr>\n",
       "<tr>\n",
       "     <td>Kurtosis:</td>    <td>2.441</td>  <td>Condition No.:</td>     <td>596</td> \n",
       "</tr>\n",
       "</table>"
      ],
      "text/plain": [
       "<class 'statsmodels.iolib.summary2.Summary'>\n",
       "\"\"\"\n",
       "                     Results: Ordinary least squares\n",
       "=========================================================================\n",
       "Model:                OLS                Adj. R-squared:       0.596     \n",
       "Dependent Variable:   Earnings           AIC:                  25110.4760\n",
       "Date:                 2020-03-29 18:34   BIC:                  25140.9814\n",
       "No. Observations:     1193               Log-Likelihood:       -12549.   \n",
       "Df Model:             5                  F-statistic:          353.3     \n",
       "Df Residuals:         1187               Prob (F-statistic):   5.41e-232 \n",
       "R-squared:            0.598              Scale:                8.0622e+07\n",
       "-------------------------------------------------------------------------\n",
       "               Coef.     Std.Err.    t     P>|t|     [0.025      0.975]  \n",
       "-------------------------------------------------------------------------\n",
       "Intercept   -32080.5640 2138.9210 -14.9985 0.0000 -36277.0510 -27884.0769\n",
       "Education     2196.3570  140.7875  15.6005 0.0000   1920.1370   2472.5770\n",
       "Experience    1376.1827   77.8160  17.6851 0.0000   1223.5104   1528.8550\n",
       "WeeksWorked    148.5797   17.6582   8.4142 0.0000    113.9350    183.2244\n",
       "IQ              22.7475    9.1967   2.4734 0.0135      4.7039     40.7911\n",
       "Esteem          93.5862   67.5657   1.3851 0.1663    -38.9752    226.1476\n",
       "-------------------------------------------------------------------------\n",
       "Omnibus:                36.271          Durbin-Watson:             1.940 \n",
       "Prob(Omnibus):          0.000           Jarque-Bera (JB):          21.665\n",
       "Skew:                   0.176           Prob(JB):                  0.000 \n",
       "Kurtosis:               2.441           Condition No.:             596   \n",
       "=========================================================================\n",
       "\n",
       "\"\"\""
      ]
     },
     "execution_count": 63,
     "metadata": {},
     "output_type": "execute_result"
    }
   ],
   "source": [
    "model = sm.ols('Earnings ~ Education + Experience + WeeksWorked + IQ + Esteem', data=df).fit()\n",
    "model.summary2()"
   ]
  },
  {
   "cell_type": "code",
   "execution_count": null,
   "metadata": {},
   "outputs": [],
   "source": []
  }
 ],
 "metadata": {
  "kernelspec": {
   "display_name": "Python 3",
   "language": "python",
   "name": "python3"
  },
  "language_info": {
   "codemirror_mode": {
    "name": "ipython",
    "version": 3
   },
   "file_extension": ".py",
   "mimetype": "text/x-python",
   "name": "python",
   "nbconvert_exporter": "python",
   "pygments_lexer": "ipython3",
   "version": "3.7.7"
  }
 },
 "nbformat": 4,
 "nbformat_minor": 4
}
